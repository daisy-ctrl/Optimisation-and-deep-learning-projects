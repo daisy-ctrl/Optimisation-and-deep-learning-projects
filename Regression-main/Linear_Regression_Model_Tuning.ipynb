{
  "nbformat": 4,
  "nbformat_minor": 0,
  "metadata": {
    "colab": {
      "name": "Linear_Regression_Model_Tuning.ipynb",
      "provenance": [],
      "authorship_tag": "ABX9TyMgU6k6A1H6rnDDFElcdW0x",
      "include_colab_link": true
    },
    "kernelspec": {
      "name": "python3",
      "display_name": "Python 3"
    },
    "language_info": {
      "name": "python"
    }
  },
  "cells": [
    {
      "cell_type": "markdown",
      "metadata": {
        "id": "view-in-github",
        "colab_type": "text"
      },
      "source": [
        "<a href=\"https://colab.research.google.com/github/DrBooma/Regression/blob/main/Linear_Regression_Model_Tuning.ipynb\" target=\"_parent\"><img src=\"https://colab.research.google.com/assets/colab-badge.svg\" alt=\"Open In Colab\"/></a>"
      ]
    },
    {
      "cell_type": "markdown",
      "metadata": {
        "id": "EGV8ZeUifm_S"
      },
      "source": [
        "# **Linear Models Regression**\n",
        "\n",
        "---\n",
        "\n",
        "\n",
        "Linear models are a good choice when the target value is expected to be a linear combination of the features."
      ]
    },
    {
      "cell_type": "code",
      "metadata": {
        "id": "RaZIO3Qpff25"
      },
      "source": [
        "import pandas as pd\n",
        "import numpy as np\n",
        "import matplotlib.pyplot as plt\n",
        "import seaborn as sns\n",
        "\n",
        "from sklearn.datasets import load_diabetes\n",
        "from sklearn.model_selection import train_test_split, cross_val_score\n",
        "from sklearn.model_selection import GridSearchCV\n",
        "\n",
        "from sklearn.metrics import mean_squared_error\n",
        "import math\n",
        "\n",
        "import warnings\n",
        "warnings.filterwarnings('ignore')"
      ],
      "execution_count": 1,
      "outputs": []
    },
    {
      "cell_type": "code",
      "metadata": {
        "id": "FFo5QdJvfv0b"
      },
      "source": [
        "# setting up default plotting parameters\n",
        "%matplotlib inline\n",
        "\n",
        "plt.rcParams['figure.figsize'] = [20.0, 7.0]\n",
        "plt.rcParams.update({'font.size': 22,})\n",
        "\n",
        "sns.set_palette('viridis')\n",
        "sns.set_style('white')\n",
        "sns.set_context('talk', font_scale=0.8)"
      ],
      "execution_count": 2,
      "outputs": []
    },
    {
      "cell_type": "code",
      "metadata": {
        "colab": {
          "base_uri": "https://localhost:8080/",
          "height": 221
        },
        "id": "eMdVMGi8fz93",
        "outputId": "1d0c91eb-785e-43f4-b98c-75507cc54630"
      },
      "source": [
        "# column headings\n",
        "columns = ['age', 'sex', 'bmi', 'average_bp', 's1', 's2', 's3', 's4', 's5', 's6']\n",
        "# load regression dataset\n",
        "diabetes, target = load_diabetes(return_X_y=True)\n",
        "diabetes = pd.DataFrame(data=diabetes, columns=columns)\n",
        "print(diabetes.shape)\n",
        "diabetes.head()"
      ],
      "execution_count": 3,
      "outputs": [
        {
          "output_type": "stream",
          "text": [
            "(442, 10)\n"
          ],
          "name": "stdout"
        },
        {
          "output_type": "execute_result",
          "data": {
            "text/html": [
              "<div>\n",
              "<style scoped>\n",
              "    .dataframe tbody tr th:only-of-type {\n",
              "        vertical-align: middle;\n",
              "    }\n",
              "\n",
              "    .dataframe tbody tr th {\n",
              "        vertical-align: top;\n",
              "    }\n",
              "\n",
              "    .dataframe thead th {\n",
              "        text-align: right;\n",
              "    }\n",
              "</style>\n",
              "<table border=\"1\" class=\"dataframe\">\n",
              "  <thead>\n",
              "    <tr style=\"text-align: right;\">\n",
              "      <th></th>\n",
              "      <th>age</th>\n",
              "      <th>sex</th>\n",
              "      <th>bmi</th>\n",
              "      <th>average_bp</th>\n",
              "      <th>s1</th>\n",
              "      <th>s2</th>\n",
              "      <th>s3</th>\n",
              "      <th>s4</th>\n",
              "      <th>s5</th>\n",
              "      <th>s6</th>\n",
              "    </tr>\n",
              "  </thead>\n",
              "  <tbody>\n",
              "    <tr>\n",
              "      <th>0</th>\n",
              "      <td>0.038076</td>\n",
              "      <td>0.050680</td>\n",
              "      <td>0.061696</td>\n",
              "      <td>0.021872</td>\n",
              "      <td>-0.044223</td>\n",
              "      <td>-0.034821</td>\n",
              "      <td>-0.043401</td>\n",
              "      <td>-0.002592</td>\n",
              "      <td>0.019908</td>\n",
              "      <td>-0.017646</td>\n",
              "    </tr>\n",
              "    <tr>\n",
              "      <th>1</th>\n",
              "      <td>-0.001882</td>\n",
              "      <td>-0.044642</td>\n",
              "      <td>-0.051474</td>\n",
              "      <td>-0.026328</td>\n",
              "      <td>-0.008449</td>\n",
              "      <td>-0.019163</td>\n",
              "      <td>0.074412</td>\n",
              "      <td>-0.039493</td>\n",
              "      <td>-0.068330</td>\n",
              "      <td>-0.092204</td>\n",
              "    </tr>\n",
              "    <tr>\n",
              "      <th>2</th>\n",
              "      <td>0.085299</td>\n",
              "      <td>0.050680</td>\n",
              "      <td>0.044451</td>\n",
              "      <td>-0.005671</td>\n",
              "      <td>-0.045599</td>\n",
              "      <td>-0.034194</td>\n",
              "      <td>-0.032356</td>\n",
              "      <td>-0.002592</td>\n",
              "      <td>0.002864</td>\n",
              "      <td>-0.025930</td>\n",
              "    </tr>\n",
              "    <tr>\n",
              "      <th>3</th>\n",
              "      <td>-0.089063</td>\n",
              "      <td>-0.044642</td>\n",
              "      <td>-0.011595</td>\n",
              "      <td>-0.036656</td>\n",
              "      <td>0.012191</td>\n",
              "      <td>0.024991</td>\n",
              "      <td>-0.036038</td>\n",
              "      <td>0.034309</td>\n",
              "      <td>0.022692</td>\n",
              "      <td>-0.009362</td>\n",
              "    </tr>\n",
              "    <tr>\n",
              "      <th>4</th>\n",
              "      <td>0.005383</td>\n",
              "      <td>-0.044642</td>\n",
              "      <td>-0.036385</td>\n",
              "      <td>0.021872</td>\n",
              "      <td>0.003935</td>\n",
              "      <td>0.015596</td>\n",
              "      <td>0.008142</td>\n",
              "      <td>-0.002592</td>\n",
              "      <td>-0.031991</td>\n",
              "      <td>-0.046641</td>\n",
              "    </tr>\n",
              "  </tbody>\n",
              "</table>\n",
              "</div>"
            ],
            "text/plain": [
              "        age       sex       bmi  ...        s4        s5        s6\n",
              "0  0.038076  0.050680  0.061696  ... -0.002592  0.019908 -0.017646\n",
              "1 -0.001882 -0.044642 -0.051474  ... -0.039493 -0.068330 -0.092204\n",
              "2  0.085299  0.050680  0.044451  ... -0.002592  0.002864 -0.025930\n",
              "3 -0.089063 -0.044642 -0.011595  ...  0.034309  0.022692 -0.009362\n",
              "4  0.005383 -0.044642 -0.036385  ... -0.002592 -0.031991 -0.046641\n",
              "\n",
              "[5 rows x 10 columns]"
            ]
          },
          "metadata": {
            "tags": []
          },
          "execution_count": 3
        }
      ]
    },
    {
      "cell_type": "code",
      "metadata": {
        "id": "G66YokMzf2T2"
      },
      "source": [
        "# Prepare data for modeling\n",
        "# Separate input features and target\n",
        "y = target\n",
        "X = diabetes\n",
        "\n",
        "# setting up testing and training sets\n",
        "X_train, X_test, y_train, y_test = train_test_split(X, y, test_size=0.25, random_state=27)"
      ],
      "execution_count": 4,
      "outputs": []
    },
    {
      "cell_type": "code",
      "metadata": {
        "id": "mkD4Cq5egGT4"
      },
      "source": [
        "# function to get cross validation scores\n",
        "def get_cv_scores(model):\n",
        "    scores = cross_val_score(model,\n",
        "                             X_train,\n",
        "                             y_train,\n",
        "                             cv=5,\n",
        "                             scoring='r2')\n",
        "    \n",
        "    print('CV Mean: ', np.mean(scores))\n",
        "    print('STD: ', np.std(scores))\n",
        "    print('\\n')"
      ],
      "execution_count": 6,
      "outputs": []
    },
    {
      "cell_type": "markdown",
      "metadata": {
        "id": "JO5q7TX6iC1M"
      },
      "source": [
        "**Linear Regression (Ordinary Least Squares)**\n",
        "\n",
        "Linear Regression fits a model to minimize the residual sum of squares between observed and predicted targets."
      ]
    },
    {
      "cell_type": "code",
      "metadata": {
        "colab": {
          "base_uri": "https://localhost:8080/"
        },
        "id": "XrRPN-oWgTTI",
        "outputId": "e7f2dc9a-7029-47ee-aebd-77e88d660f3a"
      },
      "source": [
        "from sklearn.linear_model import LinearRegression\n",
        "\n",
        "# Train model\n",
        "lr = LinearRegression().fit(X_train, y_train)\n",
        "\n",
        "# get cross val scores\n",
        "get_cv_scores(lr)"
      ],
      "execution_count": 7,
      "outputs": [
        {
          "output_type": "stream",
          "text": [
            "CV Mean:  0.47582312041372204\n",
            "STD:  0.14121168360297295\n",
            "\n",
            "\n"
          ],
          "name": "stdout"
        }
      ]
    },
    {
      "cell_type": "code",
      "metadata": {
        "colab": {
          "base_uri": "https://localhost:8080/"
        },
        "id": "nEejZYvoiQff",
        "outputId": "5bd721c0-4513-4f9c-f4e7-5096b53312a4"
      },
      "source": [
        "print('Train Score: ', lr.score(X_train, y_train))\n",
        "print('Test Score: ', lr.score(X_test, y_test))"
      ],
      "execution_count": 8,
      "outputs": [
        {
          "output_type": "stream",
          "text": [
            "Train Score:  0.5415712135071533\n",
            "Test Score:  0.3986241710470183\n"
          ],
          "name": "stdout"
        }
      ]
    },
    {
      "cell_type": "code",
      "metadata": {
        "colab": {
          "base_uri": "https://localhost:8080/"
        },
        "id": "aXeq71n-iTDs",
        "outputId": "4881b327-3ab6-4709-bc24-ab0fb35f7668"
      },
      "source": [
        "# coef_ attribute is numpy array with one entry per input feature\n",
        "print(\"LR Coefficient : \" , lr.coef_)\n",
        "\n",
        "# intercept_ always a single floating point number\n",
        "print(\"LR Intercept : \",lr.intercept_)"
      ],
      "execution_count": 10,
      "outputs": [
        {
          "output_type": "stream",
          "text": [
            "LR Coefficient :  [  22.14196252 -263.14598905  590.23580493  293.54027057 -671.70261398\n",
            "  371.15000248  113.81592716  253.96563411  685.71493107   67.92913193]\n",
            "LR Intercept :  150.3870816213711\n"
          ],
          "name": "stdout"
        }
      ]
    },
    {
      "cell_type": "code",
      "metadata": {
        "colab": {
          "base_uri": "https://localhost:8080/"
        },
        "id": "8dfFqetMia0E",
        "outputId": "7ab11b31-f2c4-4b01-a635-a91a3cdd1239"
      },
      "source": [
        "# match column names to coefficients\n",
        "for coef, col in enumerate(X_train.columns):\n",
        "    print(f'{col}:  {lr.coef_[coef]}')"
      ],
      "execution_count": 11,
      "outputs": [
        {
          "output_type": "stream",
          "text": [
            "age:  22.14196252446622\n",
            "sex:  -263.1459890497735\n",
            "bmi:  590.2358049346956\n",
            "average_bp:  293.54027057461997\n",
            "s1:  -671.7026139849067\n",
            "s2:  371.15000247801106\n",
            "s3:  113.815927163562\n",
            "s4:  253.96563410602025\n",
            "s5:  685.7149310690522\n",
            "s6:  67.92913192808257\n"
          ],
          "name": "stdout"
        }
      ]
    },
    {
      "cell_type": "code",
      "metadata": {
        "colab": {
          "base_uri": "https://localhost:8080/"
        },
        "id": "D5GPXuFMibjm",
        "outputId": "900365cd-93b9-4c6e-ecfe-ffc6917f5ceb"
      },
      "source": [
        "#Evaluation\n",
        "# mean squared error\n",
        "y_ = lr.predict(X_test)\n",
        "lr_mse = mean_squared_error(y_, y_test)\n",
        "print(\"Mean Square Error:\",lr_mse)\n",
        "print(\"Root Mean Square Error:\", math.sqrt(lr_mse))\n",
        "print(\"Minimum: \" ,target.min())\n",
        "print(\"Maximum: \", target.max())"
      ],
      "execution_count": 12,
      "outputs": [
        {
          "output_type": "stream",
          "text": [
            "Mean Square Error: 2853.9640264262994\n",
            "Root Mean Square Error: 53.42250486851304\n",
            "Minimum:  25.0\n",
            "Maximum:  346.0\n"
          ],
          "name": "stdout"
        }
      ]
    },
    {
      "cell_type": "markdown",
      "metadata": {
        "id": "5mIOpjr1jEeJ"
      },
      "source": [
        "**Ridge Regression (L2 Regularization)**\n",
        "\n",
        "Ridge regression imposes a penalty on the size of the coefficents. Here we want the magnitude of the coefficients to be minimized so that each feature has as little effect on the outcome as possible."
      ]
    },
    {
      "cell_type": "code",
      "metadata": {
        "colab": {
          "base_uri": "https://localhost:8080/"
        },
        "id": "INVU4P5EjP-h",
        "outputId": "9c817d6e-ebe2-459b-890a-3c23c0c95bd6"
      },
      "source": [
        "from sklearn.linear_model import Ridge\n",
        "\n",
        "# Train model with default alpha=1\n",
        "ridge = Ridge(alpha=1).fit(X_train, y_train)\n",
        "\n",
        "# get cross val scores\n",
        "get_cv_scores(ridge)"
      ],
      "execution_count": 13,
      "outputs": [
        {
          "output_type": "stream",
          "text": [
            "CV Mean:  0.38262487030361336\n",
            "STD:  0.09902564009167604\n",
            "\n",
            "\n"
          ],
          "name": "stdout"
        }
      ]
    },
    {
      "cell_type": "code",
      "metadata": {
        "colab": {
          "base_uri": "https://localhost:8080/"
        },
        "id": "gVkPqsQojStv",
        "outputId": "600a6d76-265e-437c-f693-6010384f6035"
      },
      "source": [
        "print('Train Score: ', ridge.score(X_train, y_train))\n",
        "print('Test Score: ', ridge.score(X_test, y_test))"
      ],
      "execution_count": 14,
      "outputs": [
        {
          "output_type": "stream",
          "text": [
            "Train Score:  0.4541351554537545\n",
            "Test Score:  0.3692726746674706\n"
          ],
          "name": "stdout"
        }
      ]
    },
    {
      "cell_type": "code",
      "metadata": {
        "colab": {
          "base_uri": "https://localhost:8080/"
        },
        "id": "QnfpINNdjXQc",
        "outputId": "c3f8cea1-a686-4901-bec4-50b2f3d9259c"
      },
      "source": [
        "# find optimal alpha with grid search\n",
        "alpha = [0.001, 0.01, 0.1, 1, 10, 100, 1000]\n",
        "param_grid = dict(alpha=alpha)\n",
        "\n",
        "grid = GridSearchCV(estimator=ridge, param_grid=param_grid, scoring='r2', verbose=1, n_jobs=-1)\n",
        "grid_result = grid.fit(X_train, y_train)\n",
        "\n",
        "print('Best Score: ', grid_result.best_score_)\n",
        "print('Best Params: ', grid_result.best_params_)"
      ],
      "execution_count": 15,
      "outputs": [
        {
          "output_type": "stream",
          "text": [
            "Fitting 5 folds for each of 7 candidates, totalling 35 fits\n"
          ],
          "name": "stdout"
        },
        {
          "output_type": "stream",
          "text": [
            "[Parallel(n_jobs=-1)]: Using backend LokyBackend with 2 concurrent workers.\n"
          ],
          "name": "stderr"
        },
        {
          "output_type": "stream",
          "text": [
            "Best Score:  0.4763815295039408\n",
            "Best Params:  {'alpha': 0.01}\n"
          ],
          "name": "stdout"
        },
        {
          "output_type": "stream",
          "text": [
            "[Parallel(n_jobs=-1)]: Done  35 out of  35 | elapsed:    1.3s finished\n"
          ],
          "name": "stderr"
        }
      ]
    },
    {
      "cell_type": "code",
      "metadata": {
        "colab": {
          "base_uri": "https://localhost:8080/"
        },
        "id": "KysRwsPGjYT2",
        "outputId": "00b217c6-0548-496b-8343-a31f92c9caee"
      },
      "source": [
        "ridge = Ridge(alpha=0.1).fit(X_train, y_train)\n",
        "\n",
        "get_cv_scores(ridge)\n",
        "\n",
        "print('Train Score: ', ridge.score(X_train, y_train))\n",
        "print('Test Score: ', ridge.score(X_test, y_test))"
      ],
      "execution_count": 16,
      "outputs": [
        {
          "output_type": "stream",
          "text": [
            "CV Mean:  0.4758943027304392\n",
            "STD:  0.13301783830948977\n",
            "\n",
            "\n",
            "Train Score:  0.5360684371966495\n",
            "Test Score:  0.4023917290230472\n"
          ],
          "name": "stdout"
        }
      ]
    },
    {
      "cell_type": "code",
      "metadata": {
        "colab": {
          "base_uri": "https://localhost:8080/"
        },
        "id": "Ii75ziXcj3RD",
        "outputId": "8c562d6e-3c7e-41c8-c29b-18a3db7d57f8"
      },
      "source": [
        "print(\"Ridge Intercept : \",ridge.intercept_)\n",
        "print(\"Ridge Coeff : \",ridge.coef_)"
      ],
      "execution_count": 17,
      "outputs": [
        {
          "output_type": "stream",
          "text": [
            "Ridge Intercept :  150.56598713944817\n",
            "Ridge Coeff :  [  27.91868954 -220.8689592   531.29352531  273.10426296  -44.01525525\n",
            "  -75.27283265 -174.97337209  149.224614    420.31566714   88.89133225]\n"
          ],
          "name": "stdout"
        }
      ]
    },
    {
      "cell_type": "code",
      "metadata": {
        "colab": {
          "base_uri": "https://localhost:8080/"
        },
        "id": "X3ogwxiCkEpx",
        "outputId": "215d6ac5-c100-45cd-a62e-c8a1d8531664"
      },
      "source": [
        "# match column names to coefficients\n",
        "for coef, col in enumerate(X_train.columns):\n",
        "    print(f'{col}:  {ridge.coef_[coef]}')"
      ],
      "execution_count": 18,
      "outputs": [
        {
          "output_type": "stream",
          "text": [
            "age:  27.918689536490177\n",
            "sex:  -220.8689592013584\n",
            "bmi:  531.2935253136764\n",
            "average_bp:  273.10426295729695\n",
            "s1:  -44.0152552467085\n",
            "s2:  -75.27283264515262\n",
            "s3:  -174.97337209270302\n",
            "s4:  149.22461400287048\n",
            "s5:  420.31566714373037\n",
            "s6:  88.89133225274864\n"
          ],
          "name": "stdout"
        }
      ]
    },
    {
      "cell_type": "markdown",
      "metadata": {
        "id": "wOdMDPx1kIK5"
      },
      "source": [
        "**Lasso Regression (L1 Regularization)**\n",
        "\n",
        "Lasso regression uses L1 regularization to force some coefficents to be exactly zero which means they are ignored by the model. This can be used as a type of feature selection! Lasso can make the model easier to interpret and reveal the most important features."
      ]
    },
    {
      "cell_type": "code",
      "metadata": {
        "colab": {
          "base_uri": "https://localhost:8080/"
        },
        "id": "32ndXuyZkMe3",
        "outputId": "73709f5e-e832-48b6-f5c9-dfac805802f7"
      },
      "source": [
        "from sklearn.linear_model import Lasso\n",
        "\n",
        "# Train model with default alpha=1\n",
        "lasso = Lasso(alpha=1).fit(X_train, y_train)\n",
        "\n",
        "# get cross val scores\n",
        "get_cv_scores(lasso)"
      ],
      "execution_count": 19,
      "outputs": [
        {
          "output_type": "stream",
          "text": [
            "CV Mean:  0.3510033961713952\n",
            "STD:  0.08727927390128883\n",
            "\n",
            "\n"
          ],
          "name": "stdout"
        }
      ]
    },
    {
      "cell_type": "code",
      "metadata": {
        "id": "phmjDp0ekPoS"
      },
      "source": [
        "print('Train Score: ', lasso.score(X_train, y_train))\n",
        "print('Test Score: ', lasso.score(X_test, y_test))"
      ],
      "execution_count": null,
      "outputs": []
    },
    {
      "cell_type": "code",
      "metadata": {
        "colab": {
          "base_uri": "https://localhost:8080/"
        },
        "id": "UAFHfLDIkSJt",
        "outputId": "06ab6d3d-813a-442c-ab8c-051d4b118d6b"
      },
      "source": [
        "# find optimal alpha with grid search\n",
        "alpha = [0.001, 0.01, 0.1, 1, 10, 100, 1000]\n",
        "param_grid = dict(alpha=alpha)\n",
        "\n",
        "grid = GridSearchCV(estimator=lasso, param_grid=param_grid, scoring='r2', verbose=1, n_jobs=-1)\n",
        "grid_result = grid.fit(X_train, y_train)\n",
        "\n",
        "print('Best Score: ', grid_result.best_score_)\n",
        "print('Best Params: ', grid_result.best_params_)"
      ],
      "execution_count": 20,
      "outputs": [
        {
          "output_type": "stream",
          "text": [
            "Fitting 5 folds for each of 7 candidates, totalling 35 fits\n",
            "Best Score:  0.4760522440673414\n",
            "Best Params:  {'alpha': 0.1}\n"
          ],
          "name": "stdout"
        },
        {
          "output_type": "stream",
          "text": [
            "[Parallel(n_jobs=-1)]: Using backend LokyBackend with 2 concurrent workers.\n",
            "[Parallel(n_jobs=-1)]: Done  35 out of  35 | elapsed:    0.1s finished\n"
          ],
          "name": "stderr"
        }
      ]
    },
    {
      "cell_type": "code",
      "metadata": {
        "colab": {
          "base_uri": "https://localhost:8080/"
        },
        "id": "ntHb74NXkT_9",
        "outputId": "82c8842f-06de-44c1-bdff-39cf7bbc1280"
      },
      "source": [
        "lasso = Lasso(alpha=0.1).fit(X_train, y_train)\n",
        "\n",
        "get_cv_scores(lasso)\n",
        "\n",
        "print('Train Score: ', lasso.score(X_train, y_train))\n",
        "print('Test Score: ', lasso.score(X_test, y_test))"
      ],
      "execution_count": 21,
      "outputs": [
        {
          "output_type": "stream",
          "text": [
            "CV Mean:  0.4760522440673414\n",
            "STD:  0.13772245166953717\n",
            "\n",
            "\n",
            "Train Score:  0.5327577910549609\n",
            "Test Score:  0.3927007832332057\n"
          ],
          "name": "stdout"
        }
      ]
    },
    {
      "cell_type": "code",
      "metadata": {
        "colab": {
          "base_uri": "https://localhost:8080/"
        },
        "id": "-zEAMxMckXJP",
        "outputId": "e4e13569-6229-4129-dd80-ff2ac91edb8e"
      },
      "source": [
        "print(\"Lasso Intercept : \",lasso.intercept_)\n",
        "print(\"Lasso Coeff : \",lasso.coef_)"
      ],
      "execution_count": 22,
      "outputs": [
        {
          "output_type": "stream",
          "text": [
            "Lasso Intercept :  150.62229713573453\n",
            "Lasso Coeff :  [ 0.00000000e+00 -1.73477912e+02  5.80834808e+02  2.44193361e+02\n",
            " -1.07149376e-01 -0.00000000e+00 -2.15894383e+02  0.00000000e+00\n",
            "  4.77841040e+02  3.83734728e+01]\n"
          ],
          "name": "stdout"
        }
      ]
    },
    {
      "cell_type": "code",
      "metadata": {
        "colab": {
          "base_uri": "https://localhost:8080/"
        },
        "id": "sQ6QS-ZjkitF",
        "outputId": "e4eea404-15e0-47de-e754-0ddd8e507bca"
      },
      "source": [
        "# match column names to coefficients\n",
        "for coef, col in enumerate(X_train.columns):\n",
        "    print(f'{col}:  {lasso.coef_[coef]}')"
      ],
      "execution_count": 23,
      "outputs": [
        {
          "output_type": "stream",
          "text": [
            "age:  0.0\n",
            "sex:  -173.47791176370126\n",
            "bmi:  580.8348081262178\n",
            "average_bp:  244.19336099877881\n",
            "s1:  -0.1071493761142325\n",
            "s2:  -0.0\n",
            "s3:  -215.8943833426197\n",
            "s4:  0.0\n",
            "s5:  477.8410404783166\n",
            "s6:  38.373472804712996\n"
          ],
          "name": "stdout"
        }
      ]
    },
    {
      "cell_type": "markdown",
      "metadata": {
        "id": "UdZseCXnknfh"
      },
      "source": [
        "**Elastic-Net**\n",
        "\n",
        "Elastic-net uses both L1 and L2 regularization."
      ]
    },
    {
      "cell_type": "code",
      "metadata": {
        "colab": {
          "base_uri": "https://localhost:8080/"
        },
        "id": "uBP8_tt-kqEL",
        "outputId": "486a9339-3a00-4946-cc9f-7ac4dc36cab7"
      },
      "source": [
        "from sklearn.linear_model import ElasticNet\n",
        "\n",
        "# Train model with default alpha=1 and l1_ratio=0.5\n",
        "elastic_net = ElasticNet(alpha=1, l1_ratio=0.5).fit(X_train, y_train)\n",
        "\n",
        "# get cross val scores\n",
        "get_cv_scores(elastic_net)"
      ],
      "execution_count": 24,
      "outputs": [
        {
          "output_type": "stream",
          "text": [
            "CV Mean:  -0.05139208284143739\n",
            "STD:  0.07297997198698156\n",
            "\n",
            "\n"
          ],
          "name": "stdout"
        }
      ]
    },
    {
      "cell_type": "code",
      "metadata": {
        "colab": {
          "base_uri": "https://localhost:8080/"
        },
        "id": "l_lmQsWwkst2",
        "outputId": "75708252-d723-45ec-aab2-0b639d9286e9"
      },
      "source": [
        "# find optimal alpha with grid search\n",
        "alpha = [0.001, 0.01, 0.1, 1, 10, 100, 1000]\n",
        "l1_ratio = [0, 0.1, 0.2, 0.3, 0.4, 0.5, 0.6, 0.7, 0.8, 0.9, 1]\n",
        "param_grid = dict(alpha=alpha, l1_ratio=l1_ratio)\n",
        "\n",
        "grid = GridSearchCV(estimator=elastic_net, param_grid=param_grid, scoring='r2', verbose=1, n_jobs=-1)\n",
        "grid_result = grid.fit(X_train, y_train)\n",
        "\n",
        "print('Best Score: ', grid_result.best_score_)\n",
        "print('Best Params: ', grid_result.best_params_)"
      ],
      "execution_count": 25,
      "outputs": [
        {
          "output_type": "stream",
          "text": [
            "Fitting 5 folds for each of 77 candidates, totalling 385 fits\n"
          ],
          "name": "stdout"
        },
        {
          "output_type": "stream",
          "text": [
            "[Parallel(n_jobs=-1)]: Using backend LokyBackend with 2 concurrent workers.\n"
          ],
          "name": "stderr"
        },
        {
          "output_type": "stream",
          "text": [
            "Best Score:  0.47722922781265514\n",
            "Best Params:  {'alpha': 0.001, 'l1_ratio': 0.8}\n"
          ],
          "name": "stdout"
        },
        {
          "output_type": "stream",
          "text": [
            "[Parallel(n_jobs=-1)]: Done 385 out of 385 | elapsed:    1.0s finished\n"
          ],
          "name": "stderr"
        }
      ]
    },
    {
      "cell_type": "code",
      "metadata": {
        "colab": {
          "base_uri": "https://localhost:8080/"
        },
        "id": "NybNtiYrku7V",
        "outputId": "b4079d5b-6334-4b7e-ecd7-1123056e56b4"
      },
      "source": [
        "elastic_net = ElasticNet(alpha=0.001, l1_ratio=0.8).fit(X_train, y_train)\n",
        "\n",
        "get_cv_scores(elastic_net)\n",
        "\n",
        "print('Train Score: ', elastic_net.score(X_train, y_train))\n",
        "print('Test Score: ', elastic_net.score(X_test, y_test))"
      ],
      "execution_count": 26,
      "outputs": [
        {
          "output_type": "stream",
          "text": [
            "CV Mean:  0.47722922781265514\n",
            "STD:  0.13731052817086237\n",
            "\n",
            "\n",
            "Train Score:  0.5378670660730036\n",
            "Test Score:  0.40051069363763514\n"
          ],
          "name": "stdout"
        }
      ]
    },
    {
      "cell_type": "code",
      "metadata": {
        "colab": {
          "base_uri": "https://localhost:8080/"
        },
        "id": "6ZnYn72Ckx8g",
        "outputId": "a45dbb2a-9224-4b9d-8d0b-92ade64b5b3c"
      },
      "source": [
        "print(\"ER Intercept : \", elastic_net.intercept_)\n",
        "print(\"ER Coefficient : \", elastic_net.coef_)"
      ],
      "execution_count": 27,
      "outputs": [
        {
          "output_type": "stream",
          "text": [
            "ER Intercept :  150.52726690987788\n",
            "ER Coefficient :  [  26.4993636  -232.96058937  549.91494018  279.35967828  -64.10927996\n",
            "  -70.79664538 -168.19232479  151.62656673  440.57774862   82.66456533]\n"
          ],
          "name": "stdout"
        }
      ]
    },
    {
      "cell_type": "code",
      "metadata": {
        "colab": {
          "base_uri": "https://localhost:8080/"
        },
        "id": "Nod-yEAWlAkw",
        "outputId": "19d8864b-025f-4027-d378-599e8d659cd5"
      },
      "source": [
        "# match column names to coefficients\n",
        "for coef, col in enumerate(X_train.columns):\n",
        "    print(f'{col}:  {elastic_net.coef_[coef]}')"
      ],
      "execution_count": 28,
      "outputs": [
        {
          "output_type": "stream",
          "text": [
            "age:  26.499363595599867\n",
            "sex:  -232.9605893661603\n",
            "bmi:  549.9149401774165\n",
            "average_bp:  279.35967827622176\n",
            "s1:  -64.10927996304942\n",
            "s2:  -70.79664537880821\n",
            "s3:  -168.19232479482872\n",
            "s4:  151.62656673245257\n",
            "s5:  440.577748622916\n",
            "s6:  82.66456533305649\n"
          ],
          "name": "stdout"
        }
      ]
    }
  ]
}