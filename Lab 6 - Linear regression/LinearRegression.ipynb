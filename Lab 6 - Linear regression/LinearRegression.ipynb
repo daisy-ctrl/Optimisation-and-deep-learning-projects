{
 "cells": [
  {
   "cell_type": "code",
   "execution_count": 1,
   "id": "julian-strength",
   "metadata": {},
   "outputs": [],
   "source": [
    "import pandas as pd\n",
    "import numpy as np\n",
    "data = pd.read_csv(\"C:/Users/user/Desktop/YEAR 3 SEM 2/ODL/Lab 6 - Linear regression/kc_house_data.csv\")"
   ]
  },
  {
   "cell_type": "code",
   "execution_count": 2,
   "id": "selective-lender",
   "metadata": {},
   "outputs": [
    {
     "data": {
      "text/plain": [
       "array([[1.000e+00, 1.180e+03, 5.650e+03, 1.000e+00, 0.000e+00, 0.000e+00],\n",
       "       [2.250e+00, 2.570e+03, 7.242e+03, 2.000e+00, 0.000e+00, 0.000e+00],\n",
       "       [1.000e+00, 7.700e+02, 1.000e+04, 1.000e+00, 0.000e+00, 0.000e+00],\n",
       "       ...,\n",
       "       [7.500e-01, 1.020e+03, 1.350e+03, 2.000e+00, 0.000e+00, 0.000e+00],\n",
       "       [2.500e+00, 1.600e+03, 2.388e+03, 2.000e+00, 0.000e+00, 0.000e+00],\n",
       "       [7.500e-01, 1.020e+03, 1.076e+03, 2.000e+00, 0.000e+00, 0.000e+00]])"
      ]
     },
     "execution_count": 2,
     "metadata": {},
     "output_type": "execute_result"
    }
   ],
   "source": [
    "x = data.iloc[:, 4:10].values\n",
    "y = data.iloc[:, 3].values\n",
    "x"
   ]
  },
  {
   "cell_type": "code",
   "execution_count": 5,
   "id": "worthy-supplier",
   "metadata": {},
   "outputs": [
    {
     "data": {
      "text/plain": [
       "id               0.016762\n",
       "price            1.000000\n",
       "bedrooms         0.308350\n",
       "bathrooms        0.525138\n",
       "sqft_living      0.702035\n",
       "sqft_lot         0.089661\n",
       "floors           0.256794\n",
       "waterfront       0.266369\n",
       "view             0.397293\n",
       "condition        0.036362\n",
       "grade            0.667434\n",
       "sqft_above       0.605567\n",
       "sqft_basement    0.323816\n",
       "yr_built         0.054012\n",
       "yr_renovated     0.126434\n",
       "zipcode          0.053203\n",
       "lat              0.307003\n",
       "long             0.021626\n",
       "sqft_living15    0.585379\n",
       "sqft_lot15       0.082447\n",
       "Name: price, dtype: float64"
      ]
     },
     "execution_count": 5,
     "metadata": {},
     "output_type": "execute_result"
    }
   ],
   "source": [
    "#correlation\n",
    "corr = data.corr()\n",
    "corr_target=abs(corr[\"price\"])\n",
    "corr_target"
   ]
  },
  {
   "cell_type": "code",
   "execution_count": 8,
   "id": "sharing-length",
   "metadata": {},
   "outputs": [
    {
     "data": {
      "text/plain": [
       "price            1.000000\n",
       "bathrooms        0.525138\n",
       "sqft_living      0.702035\n",
       "grade            0.667434\n",
       "sqft_above       0.605567\n",
       "sqft_living15    0.585379\n",
       "Name: price, dtype: float64"
      ]
     },
     "execution_count": 8,
     "metadata": {},
     "output_type": "execute_result"
    }
   ],
   "source": [
    "#Feature selection\n",
    "features = corr_target[corr_target>0.5]\n",
    "features"
   ]
  },
  {
   "cell_type": "code",
   "execution_count": 11,
   "id": "viral-greek",
   "metadata": {},
   "outputs": [],
   "source": [
    "#after feature selection, we choose relevant variables\n",
    "x = data[['bathrooms', 'sqft_living', 'grade', 'sqft_above', 'sqft_living15']]\n",
    "y = data['price']"
   ]
  },
  {
   "cell_type": "code",
   "execution_count": 12,
   "id": "embedded-butterfly",
   "metadata": {},
   "outputs": [],
   "source": [
    "#Dataset splitting\n",
    "from sklearn.model_selection import train_test_split\n",
    "x_train, x_test, y_train, y_test = train_test_split(\n",
    "   x, y, test_size=0.30, random_state=12)\n",
    "#Only the test ration(which is 30%) is given\n",
    "#set.seed(12)\n"
   ]
  },
  {
   "cell_type": "code",
   "execution_count": 13,
   "id": "cosmetic-ethiopia",
   "metadata": {},
   "outputs": [],
   "source": [
    "#Import the linear regression and call linear regression function\n",
    "from sklearn.linear_model import LinearRegression\n",
    "lreg = LinearRegression()"
   ]
  },
  {
   "cell_type": "code",
   "execution_count": 14,
   "id": "baking-suite",
   "metadata": {},
   "outputs": [
    {
     "data": {
      "text/plain": [
       "LinearRegression()"
      ]
     },
     "execution_count": 14,
     "metadata": {},
     "output_type": "execute_result"
    }
   ],
   "source": [
    "#train  the model using fit\n",
    "lreg.fit(x_train,y_train)\n"
   ]
  },
  {
   "cell_type": "code",
   "execution_count": 15,
   "id": "detailed-fundamentals",
   "metadata": {},
   "outputs": [],
   "source": [
    "\n",
    "#Predit the model using predict\n",
    "pred_x_test= lreg.predict(x_test)"
   ]
  },
  {
   "cell_type": "code",
   "execution_count": 16,
   "id": "weird-thesis",
   "metadata": {},
   "outputs": [
    {
     "data": {
      "text/plain": [
       "62692166238.69885"
      ]
     },
     "execution_count": 16,
     "metadata": {},
     "output_type": "execute_result"
    }
   ],
   "source": [
    "#Calculate mse\n",
    "mse = np.mean((pred_x_test - y_test)**2) #sqrt of predicted y value - actual y value\n",
    "mse"
   ]
  },
  {
   "cell_type": "code",
   "execution_count": 17,
   "id": "former-coach",
   "metadata": {},
   "outputs": [
    {
     "name": "stdout",
     "output_type": "stream",
     "text": [
      "0.5505107454231954\n"
     ]
    }
   ],
   "source": [
    "#Evaluate using r square\n",
    "print(lreg.score(x_test,y_test))"
   ]
  },
  {
   "cell_type": "code",
   "execution_count": null,
   "id": "israeli-designer",
   "metadata": {},
   "outputs": [],
   "source": []
  }
 ],
 "metadata": {
  "kernelspec": {
   "display_name": "Python 3",
   "language": "python",
   "name": "python3"
  },
  "language_info": {
   "codemirror_mode": {
    "name": "ipython",
    "version": 3
   },
   "file_extension": ".py",
   "mimetype": "text/x-python",
   "name": "python",
   "nbconvert_exporter": "python",
   "pygments_lexer": "ipython3",
   "version": "3.8.5"
  }
 },
 "nbformat": 4,
 "nbformat_minor": 5
}
